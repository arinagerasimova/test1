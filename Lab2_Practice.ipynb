{
 "cells": [
  {
   "cell_type": "markdown",
   "metadata": {},
   "source": [
    "# Laboratory work No2\n",
    "## USING CHORD METHOD, NEWTON-RAPHSON METHOD, AND COMBINED METHOD TO SOLVE ALGEBRAIC EQUATIONS"
   ]
  },
  {
   "cell_type": "markdown",
   "metadata": {},
   "source": [
    "In the laboratory work, you will study numerical methods for refining approximate roots, including chord method, Newton-Raphson method, and combined method, and find out how to use these methods for calculating all real roots of an algebraic equation $f(x) = 0$ at the accuracy $\\epsilon = 10^{-5}.$"
   ]
  },
  {
   "cell_type": "markdown",
   "metadata": {},
   "source": [
    "## Procedure\n",
    "1. Isolate all real roots for the given algebraic equation, $f(x) = 0$. To solve this problem, you can use any analytical, graphical, or tabular method.\n",
    "2. Correct one of these roots using the combined method by hand (only five iterations).\n",
    "3. Solve the problem of finding all real roots by a Python programming block at the given accuracy $\\epsilon = 10^{-5}.$ Calculate and save required number of iterations.\n",
    "4. Correct the roots by means of the build-in functions. Compare the obtained values and make a conclusion about the rate of convergence.\n"
   ]
  },
  {
   "cell_type": "markdown",
   "metadata": {},
   "source": [
    "## Plan for students' reports\n",
    "1.\tProcedure.\n",
    "2.\tTheoretical background.\n",
    "3.\tHand calculations.\n",
    "4.\tCalculations performed with Python, R language.\n",
    "5.\tConclusions.\n"
   ]
  },
  {
   "cell_type": "markdown",
   "metadata": {},
   "source": [
    "## Tasks and Exercises\n",
    "\n",
    "![title](img/variants.png)"
   ]
  },
  {
   "cell_type": "markdown",
   "metadata": {},
   "source": [
    "## Python documentation resources\n",
    "\n",
    "General python documentation:\n",
    "https://www.python.org/doc/\n",
    "\n",
    "Numpy and SciPy documentation:\n",
    "https://docs.scipy.org/doc/\n",
    "\n",
    "Plotting with Python documentation:\n",
    "https://matplotlib.org/index.html"
   ]
  },
  {
   "cell_type": "code",
   "execution_count": null,
   "metadata": {},
   "outputs": [],
   "source": [
    "# Your code here."
   ]
  },
  {
   "cell_type": "markdown",
   "metadata": {},
   "source": [
    "## Submiting the results\n",
    "\n",
    "You can submit your results here: https://goo.gl/forms/Aj70mQkPCo21jXs62"
   ]
  }
 ],
 "metadata": {
  "kernelspec": {
   "display_name": "Python 3",
   "language": "python",
   "name": "python3"
  },
  "language_info": {
   "codemirror_mode": {
    "name": "ipython",
    "version": 3
   },
   "file_extension": ".py",
   "mimetype": "text/x-python",
   "name": "python",
   "nbconvert_exporter": "python",
   "pygments_lexer": "ipython3",
   "version": "3.6.5"
  }
 },
 "nbformat": 4,
 "nbformat_minor": 2
}
