{
 "cells": [
  {
   "cell_type": "markdown",
   "metadata": {},
   "source": [
    "# Laboratory work No5\n",
    "\n",
    "## INTERPOLATION BY POLYNOMIALS LAGRANGE APPROXIMATION"
   ]
  },
  {
   "cell_type": "markdown",
   "metadata": {},
   "source": [
    "In this laboratory work, you will find out for to construct the Lagrange polynomial for a given table function y(x) as well as how to compare interpolation results for a rational function F(x) in cases of an arbitrarily chosen interpolation grid and Chebyshev nodes."
   ]
  },
  {
   "cell_type": "markdown",
   "metadata": {},
   "source": [
    "## Procedure\n",
    "\n",
    "1. Construct an analytic function in the form of the Lagrange interpolation polynomial for a given table function $y(x)$. Perform calculations by hand and with Python, R Language.\n",
    "2. Determine function values at the midpoints \n",
    "\n",
    "$$\\frac{x_{0} + x_{1}}{2}, \\frac{x_{1} + x_{2}}{2}, \\frac{x_{2} + x_{3}}{2}.$$\n",
    "\n",
    "3. Verify the results with built-in Python and R Language interpolation functions.\n",
    "4. Present the results graphically.\n",
    "5. Determine the rational function $F(x)$ of special type. Construct a table of values for $F(x)$ (10 points in the interval $[-1; 1]$). Compare the interpolation results in case of a) constant interpolation grid; b) Chebyshev nodes."
   ]
  },
  {
   "cell_type": "markdown",
   "metadata": {},
   "source": [
    "## Plan for students’ reports\n",
    "\n",
    "1. Theoretical background.\n",
    "2. Table of values for the original function $Y(x)$.\n",
    "3. Interpolating polynomial $P(x)$ for the given table of values (without similar reduction).\n",
    "4. Python and R Language worksheets for constructing Lagrange interpolation polynomial.\n",
    "5. Table of values for the original function $F(x)$.\n",
    "6. Comparative analysis of the interpolation function $F(x)$ in case of an arbitrarily chosen interpolation grid and Chebyshev nodes. \n",
    "7. Conclusions."
   ]
  },
  {
   "cell_type": "markdown",
   "metadata": {},
   "source": [
    "## Tasks and Excercises\n",
    "\n",
    "![title](img/variants10.png)\n",
    "![title](img/variants25.png)"
   ]
  },
  {
   "cell_type": "markdown",
   "metadata": {},
   "source": [
    "## Python documentation resources\n",
    "\n",
    "General python documentation:\n",
    "https://www.python.org/doc/\n",
    "\n",
    "Numpy and SciPy documentation:\n",
    "https://docs.scipy.org/doc/\n",
    "\n",
    "Plotting with Python documentation:\n",
    "https://matplotlib.org/index.html"
   ]
  },
  {
   "cell_type": "code",
   "execution_count": null,
   "metadata": {},
   "outputs": [],
   "source": [
    "# Your code here"
   ]
  },
  {
   "cell_type": "markdown",
   "metadata": {},
   "source": [
    "## Submiting the results\n",
    "\n",
    "You can submit your results here: https://goo.gl/forms/LrLtz0veDUixYIIA3"
   ]
  }
 ],
 "metadata": {
  "kernelspec": {
   "display_name": "Python 3",
   "language": "python",
   "name": "python3"
  },
  "language_info": {
   "codemirror_mode": {
    "name": "ipython",
    "version": 3
   },
   "file_extension": ".py",
   "mimetype": "text/x-python",
   "name": "python",
   "nbconvert_exporter": "python",
   "pygments_lexer": "ipython3",
   "version": "3.6.5"
  }
 },
 "nbformat": 4,
 "nbformat_minor": 2
}
