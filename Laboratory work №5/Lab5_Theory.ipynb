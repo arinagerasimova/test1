{
 "cells": [
  {
   "cell_type": "markdown",
   "metadata": {},
   "source": [
    "# Laboratory work No5\n",
    "\n",
    "## INTERPOLATION BY POLYNOMIALS LAGRANGE APPROXIMATION"
   ]
  },
  {
   "cell_type": "markdown",
   "metadata": {},
   "source": [
    "In this laboratory work, you will find out for to construct the Lagrange polynomial for a given table function y(x) as well as how to compare interpolation results for a rational function F(x) in cases of an arbitrarily chosen interpolation grid and Chebyshev nodes."
   ]
  },
  {
   "cell_type": "markdown",
   "metadata": {},
   "source": [
    "## Procedure\n",
    "\n",
    "1. Construct an analytic function in the form of the Lagrange interpolation polynomial for a given table function $y(x)$. Perform calculations by hand and with Python, R Language.\n",
    "2. Determine function values at the midpoints \n",
    "\n",
    "$$\\frac{x_{0} + x_{1}}{2}, \\frac{x_{1} + x_{2}}{2}, \\frac{x_{2} + x_{3}}{2}.$$\n",
    "\n",
    "3. Verify the results with built-in Python and 1. Construct an analytic function in the form of the Lagrange interpolation polynomial for a given table function $y(x)$. Perform calculations by hand and with Python, R Language.\n",
    "\n",
    " interpolation functions.\n",
    "4. Present the results graphically.\n",
    "5. Determine the rational function $F(x)$ of special type. Construct a table of values for $F(x)$ (10 points in the interval $[-1; 1]$). Compare the interpolation results in case of a) constant interpolation grid; b) Chebyshev nodes."
   ]
  },
  {
   "cell_type": "markdown",
   "metadata": {},
   "source": [
    "## Plan for students’ reports\n",
    "\n",
    "1. Theoretical background.\n",
    "2. Table of values for the original function $Y(x)$.\n",
    "3. Interpolating polynomial $P(x)$ for the given table of values (without similar reduction).\n",
    "4. Python and R Language worksheets for constructing Lagrange interpolation polynomial.\n",
    "5. Table of values for the original function $F(x)$.\n",
    "6. Comparative analysis of the interpolation function $F(x)$ in case of an arbitrarily chosen interpolation grid and Chebyshev nodes. \n",
    "7. Conclusions."
   ]
  },
  {
   "cell_type": "markdown",
   "metadata": {},
   "source": [
    "## Theoretical background\n",
    "\n",
    "Interpolation solves the following problem: given the value of any unknown function at a number of points, what value does that function have at any other point between the given points?\n",
    "For example, we observe the temperature to vary from 20°C at 1 p.m. to 14°C at 3 p.m. Linear interpolation of this data would conclude that it was 17 degrees at 2 p.m. and 18.5 degrees at 1:30 p.m.\n",
    "Interpolation means estimating the missing function values by taking a weighted average of the known function values at neighboring points. \n",
    "Linear interpolation uses a line segment that passes throug two points. The slope between $(x_{0}, y_{0})$ and $(x_{1}, y_{1})$ is \n",
    "\n",
    "$$m = \\frac{y_{1} - y_{0}}{x_{1} - x_{0}},$$\n",
    "\n",
    "and the point-slope formula for the line $y = m(x – x_{0}) + y_{0}$ can be rearranged as \n",
    "\n",
    "$$y = P(x) = y_{0} + (y - y_{0})\\frac{x - x_{0}}{x_{1} - x_{0}}.$$\n",
    "\n",
    "French mathematician Joseph Louis Lagrange used a slightly different method to find this polynomial. He noticed that it could be written as\n",
    "\n",
    "$$y = P(x) = y_{0}\\frac{x - x_{1}}{x_{1} - x_{0}} + y_{1}\\frac{x - x_{0}}{x_{1} - x_{0}}.$$\n",
    "\n",
    "Each term at the right side involves a linear factor; hence, the sum is a polynomial of degree < 1. The quotients are denoted by.\n",
    "\n",
    "$$L_{1, 0}(x) = \\frac{x - x_{1}}{x_{1} - x_{0}}  L_{1, 1}(x) = \\frac{x - x_{0}}{x_{1} - x_{0}}.$$\n",
    "\n",
    "Computation reveals that $L_{1, 0}(x_{0}) = 1, L_{1, 0}(x_{1}) = 0$ and $L_{1, 1}(x_{0}) = 0, L_{1, 1}(x_{1}) = 1$ so that the polynomial $P(x)$ also passes through the given points: $P_{1}(x_{0}) = y_{0} + y_{1}\\cdot 0 = y_{0}$ and $P_{1}(x_{1}) = y_{1} + y_{0}\\cdot 0 = y_{1}.$\n",
    "$L_{1, 0}(x)$  and $L_{1, 1}(x)$ are called Lagrange coefficient polynomials based on the nodes $x_{0}$ and $x_{1}.$ Using this notation, we can present the summation form\n",
    "\n",
    "$$P_{1}(x) = \\sum_{k = 0}^{1}y_{k}\\cdot L_{1, k}(x). (5.1)$$\n",
    "\n",
    "Suppose that ordinates $y_{k}$ are computed as $y_{k} = f(x_{k})$. If $P_{1}(x)$ is used to approximate $f(x)$ over the interval $[x0, x1]$, we call the process interpolation. If $x \\lt x_{0}$ (or $x_{1} \\lt x$), then application of $P_{1}(x)$ is called extrapolation. Thus, extrapolation is similar to interpolation except that we want to find the value of the unknown function at a point which is outside the given points.\n",
    "(5.1) is the construction of a polynomial $P_{N}(x)$ that passes through the n+1 points $(x_{0}, y_{0}), (x_{1}, y_{1}) ... (x_{N}, y_{N}) and has the form \n",
    "\n",
    "$$P_{1}(x) = \\sum_{k = 0}^{N}y_{k}\\cdot L_{N, k}(x). (5.2)$$\n",
    "\n",
    "where $L_{N, k}(x)$ is the Lagrange coefficient polynomial based on these nodes:\n",
    "\n",
    "$$L_{N, k}(x) = \\frac{(x - x_{0})\\cdot(x - x_{1}) ... (x - x_{k - 1})(x - x_{k + 1}) ... (x - x_{N})}{(x_{k} - x_{0})\\cdot(x_{k} - x_{1}) ... (x_{k} - x_{k - 1})\\cdot(x_{k} - x_{k + 1}) ... (x_{k} - x_{N})}$$\n",
    "\n",
    "(5.2) indicates that the numerator must hold the product of the linear factors $(x-x_{k})$, but the factor $(x_{k}-x_{k})$ must be left out (or skipped). Similar construction occurs in the denominator.\n",
    "Straight-forward calculations show that, for every fixed k, Lagrange coefficient polynomial $L_{N, k}(x)$  has the following property\n",
    "\n",
    "$$L_{N, k}(x_{j}) = 1,  j = k$$\n",
    "$$L_{N, k}(x_{j}) = 0,  j \\neq k$$\n",
    "\n",
    "By directly substituting these values to (5.2), we can show that the polynomial curve $y = P_{N}(x)$  goes through $(x_{j}, y_{j})$:\n",
    "\n",
    "$$P_{N}(x_{j}) = y_{0}\\cdot L_{N, k}(x_{j}) + y_{1}\\cdot L_{N, k}(x_{j})+ y_{2}\\cdot L_{N, k}(x_{j}) + ... + y_{j}\\cdot L_{N, k}(x_{j}) + ... + y_{N}\\cdot L_{N, k}(x_{j}) = y_{0}\\cdot 0 + y_{1}\\cdot 0 + y_{2}\\cdot 0 + ... + y_{j}\\cdot 1 + ... + y_{N}\\cdot 0 = y_{j}.$$\n",
    "\n",
    "To show that $P_{N}(x)$ is unique, invoke the fundamental theorem of algebra, which states that a polynomial $T(x)$ of degree < N has at most N roots. In other words, if $T(x)$ is zero at n + 1 distinct abscissas, it is identically\n",
    "zero.\n",
    "\n",
    "Suppose that $P_{N}(x)$ is not unique and that there exists another polynomial $Q_{N}(x)$ of degree $\\le$ N that also passes through the n+1 points. We form the difference polynomial $T(x) = P_{N}(x) − Q_{N}(x)$ and observe that $T(x)$ has the degree $\\le$ N and\n",
    "\n",
    "$$T(x_{j}) = P_{N}(x_{j}) - Q_{N}(x_{j}) = y_{j} - y_{j} = 0   for   j = 0, 1, ... , N.$$\n",
    "\n",
    "Therefore, $T(x) \\equiv 0$ and then follows that $Q_{N}(x) = P_{N}(x).$\n",
    "Let us consider two special cases of Lagrange polynomial interpolation.\n",
    "1. You have two nodes. In this case, Lagrange polynomial is the equation of a straight line $P_{1}(x)$ passing through two given points:\n",
    "\n",
    "$$y = \\frac{x - b}{a - b}y_{0} + \\frac{x - a}{b - a}y_{1}$$\n",
    "\n",
    "where a and b are the abscissas of these points.\n",
    "2. When you get the equation of a parabola, $P_{2}(x)$  passes through three points: \n",
    "\n",
    "$$y = \\frac{(x - b)(x - c)}{(a - b)(a - c)}\\cdot y_{0} + \\frac{(x - a)(x - x)}{(b - a)(b - c)}\\cdot y_{1} + \\frac{(x - a)(x - b)}{(c - a)(c - b)}\\cdot y_{2},$$\n",
    "\n",
    "where a, b, and c are the abscissas of data points.\n",
    "Advantages of Lagrange polynomial include the following:\n",
    "1. Lagrange polynomial interpolation works both with tables of a constant step, and with tables of a variable step;\n",
    "2. $P_{N}(x)$ is independent of $f(x)$ which implies that one system of nodes can be interpolated for several functions.\n",
    "Disadvantages of Lagrange polynomial include the following:\n",
    "1. All the terms in the Lagrange polynomial are equivalent, so when\n",
    "you add nodes to the table, Lagrange polynomial must be completely rebuilt.\n",
    "2. Error of the Lagrange interpolation formula $R_{N}(x) = f(x) - P_{N}(x)$ satisfies the inequality\n",
    "\n",
    "$$|R_{N}(x)| \\le \\frac{M_{N+1}}{(N + 1)!}|L(x)|$$\n",
    "\n",
    "where $M_{N+1} = max|f^{N+1}(x)|, a \\le x \\le, L(x) = (x - x_{0})(x - x_{1}) ... (x - x_{N}).$\n",
    "\n",
    "Errors can be minimized, if the interpolation nodes are the roots of Chebyshev polynomial. Chebyshev polynomial $T_{n}(x)$ on the interval $[-1, 1]$ has exactly n real roots, defined as\n",
    "\n",
    "$$t_{k} = cos(\\frac{(2k + 1)\\pi}{2n + 2}), k = 0, 1, ... , n - 1.$$\n",
    "\n",
    "In order to solve the interpolation problem on the interval $[a, b]$, the linear transformation must be performed:\n",
    "\n",
    "$$x_{k} = \\frac{b - a}{2}t_{k} + \\frac{b + a}{2}.$$"
   ]
  },
  {
   "cell_type": "markdown",
   "metadata": {},
   "source": [
    "## Calculation Example\n",
    "\n",
    "Construct the Lagrange interpolation polynomial for the function specified in Table 5.1.\n",
    "\n",
    "![title](img/1.png)\n",
    "\n",
    "Using the resulting polynomial interpolation, calculate the approximate value at the point:\n",
    "\n",
    "$$f(\\frac{x_{0} + x_{1}}{2}) = f(1,3).$$\n",
    "\n",
    "To construct the polynomial interpolation, we use (5.3) for N=3. The result is a third-degree polynomial $P_{3}(x)$ for which values in interpolation nodes coincide with tabulated values of the original function:\n",
    "\n",
    "$$P_{3}(x) = \\sum_{k = 0}^{3}L_{k}(x)f(x_{k}) = \\frac{(x - 1.5)(x - 2.0)(x - 2.6)}{(1.1 - 1.5)(1.1 - 2.0)(1.1 - 2.6)}0,0953 + \\frac{(x - 1.1)(x - 2.0)(x - 2.6)}{(1.5 - 1.1)(1.5 - 2.0)(1.5 - 2.6)}0,4055 + \\frac{(x - 1.1)(x - 1.5)(x - 2.6)}{(2.0 - 1.1)(2.0 - 1.5)(2.0 - 2.6)}0,6391 + \\frac{(x - 1.1)(x - 1.5)(x - 2.0)}{(2.6 - 1.1)(2.6 - 1.5)(2.6 - 2.0)}0,9555 \\approx 0,064831\\cdot x^{3} - 0,520725\\cdot x^{2} + 1,798113\\cdot x - 1,338907.$$\n",
    "\n",
    "To check the condition $P_{3}(x_{i}) = f(x_{i}), i = 0, 1, 2, 3:$\n",
    "\n",
    "1) $i = 0, x_{0} = 1,1.$\n",
    "Substitute $x_{0} = 1,1$ to the resulting polynomial and get\n",
    "\n",
    "$$P_{3}(1,1) \\approx 0,095291 \\approx 0,0953 = f(1,1).$$\n",
    "\n",
    "2) $i = 1, x_{1} = 1,5.$\n",
    "\n",
    "$$P_{3}(1,5) \\approx 0,405493 \\approx 0,4055 = f(1,5).$$\n",
    "\n",
    "3) $i = 2, x_{2} = 2,0.$\n",
    "\n",
    "$$P_{3}(2,0) \\approx 0,693095 \\approx 0,6931 = f(2,0).$$\n",
    "\n",
    "3) $i = 3, x_{3} = 2,6.$\n",
    "\n",
    "$$P_{3}(2,6) \\approx 0,955497 \\approx 0,9555 = f(2,6).$$\n",
    "\n",
    "Calculate $f(1,3): f(1,3) \\approx P_{3}(1,3) \\approx 0,261108$"
   ]
  },
  {
   "cell_type": "markdown",
   "metadata": {},
   "source": [
    "## Python documentation resources\n",
    "\n",
    "General python documentation:\n",
    "https://www.python.org/doc/\n",
    "\n",
    "Numpy and SciPy documentation:\n",
    "https://docs.scipy.org/doc/\n",
    "\n",
    "Plotting with Python documentation:\n",
    "https://matplotlib.org/index.html"
   ]
  },
  {
   "cell_type": "code",
   "execution_count": 4,
   "metadata": {},
   "outputs": [],
   "source": [
    "# generator that generates numbers form 0 to n that does not equal to k\n",
    "def k_range(k, n):\n",
    "    for i in range(n):\n",
    "        if i != k:\n",
    "            yield i"
   ]
  },
  {
   "cell_type": "code",
   "execution_count": 5,
   "metadata": {},
   "outputs": [],
   "source": [
    "# lagrange method\n",
    "def L(x, y, xx):\n",
    "    # initial values\n",
    "    n, yy = len(x), 0\n",
    "    for k in range(n):\n",
    "        li = 1\n",
    "        for j in k_range(k, n):\n",
    "            # calculating of polynomials\n",
    "            li *= (xx - x[j]) / (x[k] - x[j])\n",
    "        # adding polynomials to the result\n",
    "        yy += li * y[k]\n",
    "    # returning the result\n",
    "    return yy\n",
    "    "
   ]
  },
  {
   "cell_type": "code",
   "execution_count": 83,
   "metadata": {},
   "outputs": [
    {
     "name": "stdout",
     "output_type": "stream",
     "text": [
      "1.223634272133096\n"
     ]
    }
   ],
   "source": [
    "# initial values\n",
    "#x = [1.1, 1.5, 2.0, 2.6]\n",
    "#y = [0.0953, 0.4055, 0.6931, 0.9555]\n",
    "#print(L(x, y, 1.3))\n",
    "x = [2.1, 2.7, 3.3, 3.8]\n",
    "y = [0.7419, 0.9933, 1.1939, 1.3350]\n",
    "print(L(x, y, 3.4))"
   ]
  },
  {
   "cell_type": "markdown",
   "metadata": {},
   "source": [
    "### Interpolating with Chebyshev nodes\n",
    "\n",
    "$f(x)$ can be tabulated in the interval $[-1, 1]$ in two ways: in 0.2 step and by using Chebyshev nodes (n=10, the number of points). Lagrange polynomials are built on the two resulting meshes.\n",
    "In the diagram below, you can see a significant deviation of the Lagrange polynomial, built on a grid with a step of 0.2, from the initial function and a reasonable approximation for the polynomial function, built with Chebyshev nodes:\n",
    "The initial function:"
   ]
  },
  {
   "cell_type": "code",
   "execution_count": 46,
   "metadata": {},
   "outputs": [],
   "source": [
    "# defining the function\n",
    "def f(x):\n",
    "    return 1 / (3 + 40 * x ** 2)"
   ]
  },
  {
   "cell_type": "code",
   "execution_count": 47,
   "metadata": {},
   "outputs": [],
   "source": [
    "# importing math libraty for cosine function and pi constant\n",
    "import math\n",
    "# importing numpy library\n",
    "import numpy as np"
   ]
  },
  {
   "cell_type": "code",
   "execution_count": 48,
   "metadata": {},
   "outputs": [],
   "source": [
    "# defining chebyshev function\n",
    "def chebyshev(k, n):\n",
    "    return math.cos((2*k + 1) * math.pi / (2*n + 2))"
   ]
  },
  {
   "cell_type": "code",
   "execution_count": 99,
   "metadata": {},
   "outputs": [
    {
     "data": {
      "image/png": "[encoded data removed]",
      "text/plain": [
       "<Figure size 432x288 with 1 Axes>"
      ]
     },
     "metadata": {},
     "output_type": "display_data"
    }
   ],
   "source": [
    "# importing pyplot library for plotting\n",
    "import matplotlib.pyplot as plt\n",
    "\n",
    "# arranging 100 evenly spaced numbers form -1 to 1\n",
    "x = np.linspace(-1.0, 1.0, 100)\n",
    "# calculating function in x points\n",
    "fx = list(map(f, x))\n",
    "\n",
    "# plotting our function\n",
    "plt.plot(x, fx)\n",
    "plt.show()"
   ]
  },
  {
   "cell_type": "code",
   "execution_count": 110,
   "metadata": {},
   "outputs": [
    {
     "data": {
      "image/png": "[encoded data removed]",
      "text/plain": [
       "<Figure size 432x288 with 1 Axes>"
      ]
     },
     "metadata": {},
     "output_type": "display_data"
    }
   ],
   "source": [
    "# arranging numbers from -1 to 1 with the step of 0.2\n",
    "xx = np.arange(-1, 1, 0.2)\n",
    "# calculating function in xx points\n",
    "fx_lagr = list(map(f, xx))\n",
    "# calculating lagrange polynomials for xx and fx_lagr on [-1; 1] interval\n",
    "lagr_f = list(map(lambda p: L(xx, fx_lagr, p), x))\n",
    "# plotting the result\n",
    "plt.plot(x, lagr_f)\n",
    "plt.show()"
   ]
  },
  {
   "cell_type": "code",
   "execution_count": 93,
   "metadata": {},
   "outputs": [
    {
     "data": {
      "image/png": "[encoded data removed]",
      "text/plain": [
       "<Figure size 432x288 with 1 Axes>"
      ]
     },
     "metadata": {},
     "output_type": "display_data"
    }
   ],
   "source": [
    "# number of chebyshev nodes\n",
    "n = 10\n",
    "# calculating n chebyshev nodes\n",
    "chebyshev_nodes = [chebyshev(i, n) for i in range(n)]\n",
    "# calculating function in those chebyshev nodes\n",
    "fx_cheb = list(map(f, chebyshev_nodes))\n",
    "# calculating lagrange polynomials on [-1; 1] interval\n",
    "lagr_chebyshev = list(map(lambda xx: L(chebyshev_nodes, fx_cheb, xx), x))\n",
    "\n",
    "# plotting the result\n",
    "plt.plot(x, lagr_chebyshev)\n",
    "plt.show()"
   ]
  },
  {
   "cell_type": "code",
   "execution_count": 106,
   "metadata": {},
   "outputs": [
    {
     "data": {
      "image/png": "[encoded data removed]",
      "text/plain": [
       "<Figure size 432x288 with 1 Axes>"
      ]
     },
     "metadata": {},
     "output_type": "display_data"
    }
   ],
   "source": [
    "# plotting actual function and interpolated function with chebyshev nodes\n",
    "plt.plot(x, fx, x, lagr_chebyshev)\n",
    "plt.show()"
   ]
  },
  {
   "cell_type": "markdown",
   "metadata": {},
   "source": [
    "## Try solving it yourself\n",
    "\n",
    "Try it: [Solve](Lab5_Practice.ipynb)"
   ]
  }
 ],
 "metadata": {
  "kernelspec": {
   "display_name": "Python 3",
   "language": "python",
   "name": "python3"
  },
  "language_info": {
   "codemirror_mode": {
    "name": "ipython",
    "version": 3
   },
   "file_extension": ".py",
   "mimetype": "text/x-python",
   "name": "python",
   "nbconvert_exporter": "python",
   "pygments_lexer": "ipython3",
   "version": "3.6.5"
  }
 },
 "nbformat": 4,
 "nbformat_minor": 2
}
