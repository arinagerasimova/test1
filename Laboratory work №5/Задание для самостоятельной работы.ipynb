{
 "cells": [
  {
   "cell_type": "markdown",
   "metadata": {},
   "source": [
    "# Задание для самостоятельной работы\n",
    "\n",
    "   Для текста \"China is the one of the largest countries in the world. The total area of the country is over a million square kilometers. As for population, China is the first country in the world. Over one billion people live there. It means that one out of every five people in the whole world is Chinese. China is a great country, only it has aman-made object which is visible from outer space - The Great Wall.\" выполнить анализ текста:\n",
    "  <br> 1) найти в тексте слово \"largest\"\n",
    "      <br>  2) найти лемму слова \"population\"\n",
    "       <br>  3) для слова \"people\" определить часть речи\n",
    "       <br>  4) найти все числительные (tag CD)\n",
    "      <br>   5) узнать частоту слова \"is\"\n",
    "      \n",
    "  <br> После обработки информации введите полученные значения <a href=\"https://docs.google.com/forms/d/e/1FAIpQLSf0V63G5Ez_DNG7TpKpHTOFRcIr0t02fltQGmyddp-s3KLAVw/viewform\">здесь</a>    "
   ]
  },
  {
   "cell_type": "code",
   "execution_count": null,
   "metadata": {},
   "outputs": [],
   "source": []
  }
 ],
 "metadata": {
  "kernelspec": {
   "display_name": "Python 3",
   "language": "python",
   "name": "python3"
  },
  "language_info": {
   "codemirror_mode": {
    "name": "ipython",
    "version": 3
   },
   "file_extension": ".py",
   "mimetype": "text/x-python",
   "name": "python",
   "nbconvert_exporter": "python",
   "pygments_lexer": "ipython3",
   "version": "3.6.5"
  }
 },
 "nbformat": 4,
 "nbformat_minor": 2
}
