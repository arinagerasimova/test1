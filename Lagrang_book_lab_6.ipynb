{
 "cells": [
  {
   "cell_type": "markdown",
   "metadata": {},
   "source": [
    "# INTERPOLATION BY POLYNOMIALS LAGRANGE APPROXIMATION"
   ]
  },
  {
   "cell_type": "markdown",
   "metadata": {},
   "source": [
    "In this laboratory work, you will find out for to construct the Lagrange polynomial for a given table function y(x)\n",
    "## Procedure\n",
    "<ol>\n",
    "<li>Construct an analytic function in the form of the Lagrange interpolation polynomial for a given table function y(x).</li>\n",
    "<li>Present the results graphically.</li>\n",
    "</ol>"
   ]
  },
  {
   "cell_type": "markdown",
   "metadata": {},
   "source": [
    "## Theoretical background\n",
    " Interpolation solves the following problem: given the value of any unknown function at a number of points, what value does that function have at any other point between the given points?\n",
    "For example, we observe the temperature to vary from 20°C at 1 p.m. to 14°C at 3 p.m. Linear interpolation of this data would conclude that it was 17 degrees at 2 p.m. and 18.5 degrees at 1:30 p.m.\n",
    "Interpolation means estimating the missing function values by taking a weighted average of the known function values at neighboring points. Linear interpolation uses a line segment that passes through two\n",
    "points. The slope between $ (x_{0} , y_{0} )$ and $(x_{1} , y_{1} )$ is\n",
    "$$ m = {y_{1}-y_{0}\\over x_{1}-x_{0}}. $$\n",
    "and the point-slope formula for the line $ y = m(x – x_{0}) + y_{0} $ can be rearranged as\n",
    "$$ y = P(x)= y_{0} + (y-y_{0})*{x-x_{0}\\over x_{1}-x_{0}}. $$\n",
    "French mathematician Joseph Louis Lagrange used a slightly different method to find this polynomial. He noticed that it could be written as\n",
    "\n",
    "$$ y = P(x)= y_{0}*{x-x_{1}\\over x_{0}-x_{1}}+y_{1}*{x-x_{0}\\over x_{1}-x_{0}}. $$\n",
    "\n",
    "Each term at the right side involves a linear factor; hence, the sum is a polynomial of degree < 1. The quotients are denoted by.\n",
    "\n",
    "$$ L_{1,0}(x)={x-x_{1}\\over x_{1}-x_{0}} , L_{1,1}(x)={x-x_{0}\\over x_{1}-x_{0}} $$\n",
    "\n",
    "Computation reveals that $ L_{1,0}(x_{0})=1, L_{1,0}(x_{1})=0, and L_{1,1}(x_{0})=0, L_{1,1}(x_{1})=1 $ so that the polynomial P(x) also passes through the given points:\n",
    "\n",
    "$$ P_{1}(x_{0})=y_{0}+y_{1}*0=y_{0} and P_{1}(x_{1})=y_{1}+y_{0}*0=y_{1}. $$\n",
    "\n",
    "$ L_{1,0}(x) $ and $ L_{1,1(x)}$ are called Lagrange coefficient polynomials based on the nodes $ x_{0} and x_{1} $. Using this notation, we can present the summation form\n",
    "$$ Σ_{k=0}^1(y_{k}*L_{1,k}(x)). $$ (5.1)\n",
    "Suppose that ordinates $ y_{k} $ are computed as $ y_{k} = f(x_{k}) $. If $ P_{1}(x) $ is used to approximate f(x) over the in terval $ [x_{0} , x_{1} ] $, we call the process interpolation.\n",
    "\n",
    "If $ x < x_{0} (or x_{1} < x) $, then application of P1(x) is called extrapolation. Thus,extrapolation is similar to interpolation except that we want to find the value of the unknown function at a point which is outside the given points.\n",
    "(5.1) is the construction of a polynomial $ P_{N}(x) $ that passes through the n+1 points $ (x_{0} , y_{0} ), (x_{1} , y_{1})... (x_{N} , y_{N} $) and has the form\n",
    "\n",
    "\n",
    "$$ \n",
    "P_{N}(x)=Σ_{k=0}^N  y_{k}*L_{N,k}(x),\n",
    "$$(5.2)\n",
    "\n",
    "where $ L_{N,k}(x) $ is the Lagrange coefficient polynomial based on these nodes:\n",
    "\n",
    "$$ L_{N,k}(x)= {(x-x_{0})*(x-x_{1})...(x-x_{k-1})*(x-x_{k+1})...(x-x_{N})\\over (x_{k}-x_{0})*(x_{k}-x_{1})...(x_{k}-x_{k-1})*(x_{k}-x_{k+1})...(x_{k}-x_{N})} $$\n",
    "\n",
    "(5.2) indicates that the numerator must hold the product of the linear factors $(x-x_{k} )$, but the factor $(x_{k}-x_{k} )$ must be left out (or skipped). Similar construction occurs in the denominator.\n",
    "Straight-forward calculations show that, for every fixed k, Lagrange coefficient polynomial $L_{N,k}(x)$ has the following property\n",
    "$$ \n",
    "L_{N,k}(x_{j}) = 1 \n",
    "$$ when j = k \n",
    "$$ L_{N,k}(x_{j}) = 0 $$\n",
    "when j # k. \n",
    "\n",
    "By directly substituting these values to (5.2), we can show that the polynomial curve $ y =P_{N}(x) $ goes through $(x_{j} , y_{j}):$\n",
    "\n",
    "$$\n",
    "P_{N}(x_{j})=y_{0}*L_{N,k}(x_{j})+y_{1}*L_{N,k}(x_{j})+y_{2}*L_{N,k}(x_{j})+...+y_{j}*L_{N,j}(x_{j})+...+y_{N}*L_{N,k}(x_{j})=y_{0}*0+y_{1}*0+y_{2}*0+...+y_{j}*1+...+y_{N}*0=y_{j}\n",
    "$$\n",
    "\n",
    "To show that $P_{N}(x)$ is unique, invoke the fundamental theorem of algebra, which states that a polynomial T(x) of degree < N has at most ≤ N roots. In other words, if T(x) is zero at n+1 distinct abscissas, it is identically zero.\n",
    "\n",
    "Suppose that $P_{N}(x)$ is not unique and that there exists another polynomial $Q_{N}(x)$ of degree ≤ N that also passes through the n+1 points. We form the difference polynomial $T(x)=P_{N}(x)-Q_{N}(x)$ and observe that T(x) has the degree ≤N and\n",
    "$$\n",
    "T(x_{j})=P_{N}(x_{j})-Q_{N}(x_{j})=y_{j}-y_{j}=0, $$ $$ for j = 0, 1 ..... N. $$\n",
    "Therefore, T(x)≡0 and then follows that $ Q_{N}(x)-P_{N}(x).$\n",
    "Let us consider two special cases of Lagrange polynomial\n",
    "interpolation.\n",
    "1. You have two nodes. In this case, Lagrange polynomial is the\n",
    "equation of a straight line $ P_{1}(x) $ passing through two given points:\n",
    "\n",
    "$$ y={x-b\\over a-b}*y_{0} + {x-a\\over b-a}*y_{1} $$\n",
    "\n",
    "where a and b are the abscissas of these points.\n",
    "2. When you get the equation of a parabola, $ P_{2}(x) $ passes through three points:\n",
    "\n",
    "$$ y={(x-b)(x-c)\\over (a-b)(a-c)}*y_{0} + {(x-a)(x-c)\\over (b-a)(b-c)}*y_{1}+ {(x-a)(x-b)\\over (c-a)(c-b)}*y_{2} $$\n",
    "\n",
    "where a, b, and c are the abscissas of data points.\n",
    "\n",
    "Advantages of Lagrange polynomial include the following:\n",
    "1. Lagrange polynomial interpolation works both with tables of a constant step, and with tables of a variable step;\n",
    "2. $ P_{N}(x)$ is independent of f(x) which implies that one system of nodes can be interpolated for several functions.\n",
    "Disadvantages of Lagrange polynomial include the following:\n",
    "1. All the terms in the Lagrange polynomial are equivalent, so when you add nodes to the table, Lagrange polynomial must be completely rebuilt.\n",
    "2. Error of the Lagrange interpolation formula $ R_{N}(x)=f(x)-P_{N}(x)$ satisfies the inequality\n",
    "\n",
    "$$ |R_{N}(x)|≤{M_{n+1}\\over (N+1)!}*|L(x)| $$\n",
    "\n",
    "where $ M_{n+1}=max|f^{N+1}(x)|$, a≤x≤b, $ L(x)=(x-x_{0})(x-x_{1}...(x-x_{n})). $\n",
    "Errors can be minimized, if the interpolation nodes are the roots of Chebyshev polynomial. Chebyshev polynomial $T_{n}(x)$ on the interval [-1, 1] has exactly n real roots, defined as\n",
    "\n",
    "$$ t_{k}=cos({(2k+1)\\pi\\over 2n+2}), k=0,1,...,n-1 $$\n",
    "\n",
    "In order to solve the interpolation problem on the interval [a, b], the linear transformation must be performed:\n",
    "$$ x_{k}={b-a\\over 2}*t_{k} + {b+a\\over 2} $$"
   ]
  },
  {
   "cell_type": "markdown",
   "metadata": {},
   "source": [
    "# Calculation Example\n",
    "Construct the Lagrange interpolation polynomial for the function specified\n",
    "$$ x_{k} = [1.1,1.5,2.0, 2.6] $$\n",
    "$$ f(x_{k}) = [0.0953,0.4055,0.6931, 0.9555] $$\n",
    "Using the resulting polynomial interpolation, calculate the approximate value at the point: $ f({x_{0}+x_{1}\\over 2})=f(1.3) $.\n",
    "\n",
    "To construct the polynomial interpolation, we use (5.3) for N=3. The result is a third-degree polynomial $ P_{3}(x) $ for which values in interpolation nodes coincide with tabulated values of the original function:\n",
    "\n",
    "$$ P_{3}(x)= Σ_{k=0}^3L_{k}(x)*f(x_{k})=$$\n",
    "$$ = {(x-1.5)(x-2.0)(x-2.6)\\over (1.1-1.5)(1.1-2.0)(1.1-2.6)}*0.0953+ $$\n",
    "$$ + {(x-1.1)(x-2.0)(x-2.6)\\over (1.5-1.1)(1.5-2.0)(1.5-2.6)}*0.4055+ $$\n",
    "$$ = {(x-1.1)(x-1.5)(x-2.6)\\over (2.0-1.1)(2.0-1.5)(2.0-2.6)}*0.6931+ $$\n",
    "$$ = {(x-1.1)(x-1.5)(x-2.)\\over (2.6-1.1)(2.6-1.5)(2.6-2.0)}*0.9555≈ $$\n",
    "$$ ≈ 0.064831*x^3-0.520725*x^2+1.798113*x-1.338907. $$\n",
    "\n",
    "To check the condition $ P_{3}(x_{i})= f(x_{i})$, (i = 0, 1, 2, 3) :\n",
    "<ol>\n",
    "\n",
    "<li>i=0,$ x_{0}=1.1 $.\n",
    "Substitute $ x_{0}=1.1 $ to the resulting polynomial and get\n",
    "$$ P_{3}(1.1)≈0.095291≈0.0953=f(1.1);$$</li>\n",
    "\n",
    "<li>i=1,$ x_{1}=1.5 $.\n",
    "$$ P_{3}(1.5)≈0.405493≈0.4055=f(1.5); $$</li>\n",
    "\n",
    "<li>i=2,$ x_{2}=2.0 $.\n",
    "$$ P_{3}(2.0)≈0.693095≈0.6931=f(2.0);$$</li>\n",
    "<li>i=3,$ x_{3}=2.6 $.\n",
    "$$P_{3}(2.6)≈0.955497≈0.9555=f(2.6);$$</li>\n",
    "</ol>\n",
    "\n",
    "Calculate f(1.3): f(1.3)≈$P_{3}(1.3)$≈0.261108≈0,2611 ."
   ]
  },
  {
   "cell_type": "markdown",
   "metadata": {},
   "source": [
    "## Implementation of the Lagrange polynomial on Python"
   ]
  },
  {
   "cell_type": "markdown",
   "metadata": {},
   "source": [
    "With Mathlab take the library pylab and assign a variable plt"
   ]
  },
  {
   "cell_type": "code",
   "execution_count": 9,
   "metadata": {},
   "outputs": [],
   "source": [
    "from matplotlib import pylab as plt\n",
    "%matplotlib inline"
   ]
  },
  {
   "cell_type": "markdown",
   "metadata": {},
   "source": [
    "Please insert the values of x and f(x) in a space. The assignment of x and f(x) to the array."
   ]
  },
  {
   "cell_type": "code",
   "execution_count": 7,
   "metadata": {},
   "outputs": [
    {
     "name": "stdout",
     "output_type": "stream",
     "text": [
      "Enter value x: 1.1 1.5 2.0 2.6\n",
      "Enter value f(x): 0.95 0.78 0.55 0.45\n"
     ]
    }
   ],
   "source": [
    "s = input(\"Enter value x: \")\n",
    "ss = input(\"Enter value f(x): \")\n",
    "\n",
    "x_str = s.split(' ')\n",
    "y_str = ss.split(' ')\n",
    "\n",
    "x = []\n",
    "y = []"
   ]
  },
  {
   "cell_type": "markdown",
   "metadata": {},
   "source": [
    "Cycles for converting arrays to type float"
   ]
  },
  {
   "cell_type": "code",
   "execution_count": null,
   "metadata": {},
   "outputs": [],
   "source": [
    "for i in x_str:\n",
    "    x.append(float(i))\n",
    "\n",
    "for i in y_str:\n",
    "    y.append(float(i))"
   ]
  },
  {
   "cell_type": "markdown",
   "metadata": {},
   "source": [
    "Provided that the arrays are equal to the plot. If the equality condition is not met then an error is displayed. Calculate the length. Create a null array for the result and the number of elements is equal to the number of lengths of the arrays.  \n",
    "We create an array named koff with values of 1. This will be the coefficient near $ x^3 $.  \n",
    "Cycles for finding coefficients near $ x^2,x $ and a coefficient without x.  \n",
    "A cycle for computing the denominator.  \n",
    "Adding coefficients to the formula.  \n",
    "The output is the result. Please insert values x that will be substituted in the Lagrange polynomial and output the result."
   ]
  },
  {
   "cell_type": "code",
   "execution_count": 8,
   "metadata": {},
   "outputs": [
    {
     "name": "stdout",
     "output_type": "stream",
     "text": [
      "[0.2037037037037034, -0.9759259259259285, 1.0714814814814844, 0.681111111111113]\n",
      "\n",
      "Polynomial: 0.2037037037037034*x^3 + (-0.9759259259259285*x^2) + (1.0714814814814844*x) + (0.681111111111113)\n",
      "Enter the x: 3.1\n",
      "F(3.1) = 0.6925925925925684\n"
     ]
    },
    {
     "data": {
      "image/png": "[encoded data removed]",
      "text/plain": [
       "<Figure size 432x288 with 1 Axes>"
      ]
     },
     "metadata": {},
     "output_type": "display_data"
    }
   ],
   "source": [
    "if (len(x) == len(y)):\n",
    "    plt.plot(x, y)\n",
    "    n = len(x)\n",
    "    coeff = [0.0, 0.0, 0.0, 0.0]\n",
    "    for i in range(0, n):\n",
    "        xs = []\n",
    "        for j in range(0, n):\n",
    "            if i != j:\n",
    "                xs.append(x[j])\n",
    "        #x3\n",
    "        koff = [1, ]\n",
    "        summ = 0\n",
    "        proiz = 1\n",
    "        for j in xs:\n",
    "            #x2\n",
    "            summ += -j\n",
    "            #0\n",
    "            proiz *= -j\n",
    "        koff.append(summ)\n",
    "\n",
    "        #x\n",
    "        k1 = 1\n",
    "        k2 = 1\n",
    "        k3 = 1\n",
    "        for j in range(0, len(xs)):\n",
    "            if j == 0:\n",
    "                k1 *= -xs[j]\n",
    "                k2 *= -xs[j]\n",
    "            if j == 1:\n",
    "                k2 *= -xs[j]\n",
    "                k3 *= -xs[j]\n",
    "            if j == 2:\n",
    "                k1 *= -xs[j]\n",
    "                k3 *= -xs[j]\n",
    "        koff.append(k1+k2+k3)\n",
    "        koff.append(proiz)\n",
    "\n",
    "        zn = 1\n",
    "        for j in xs:\n",
    "            zn *= (x[i] - j)\n",
    "\n",
    "        for j in range(0, len(koff)):\n",
    "            koff[j] = (koff[j]*y[i])/zn\n",
    "\n",
    "      \n",
    "\n",
    "        for j in range(0, n):\n",
    "            coeff[j] += koff[j]\n",
    "\n",
    "    print(coeff)\n",
    "\n",
    "    print(\"\\nPolynomial: {0}*x^3 + ({1}*x^2) + ({2}*x) + ({3})\".format(coeff[0], coeff[1], coeff[2], coeff[3]))\n",
    "    \n",
    "    x_inp = input(\"Enter the x: \")\n",
    "    y_inp = float(x_inp)**3 * coeff[0] + float(x_inp)**2 * coeff[1] + float(x_inp) * coeff[2] + coeff[3]\n",
    "    print(\"F({0}) = {1}\".format(x_inp, y_inp))\n",
    "else:\n",
    "    print(\"Arrays are not the same\")"
   ]
  }
 ],
 "metadata": {
  "kernelspec": {
   "display_name": "Python 3",
   "language": "python",
   "name": "python3"
  },
  "language_info": {
   "codemirror_mode": {
    "name": "ipython",
    "version": 3
   },
   "file_extension": ".py",
   "mimetype": "text/x-python",
   "name": "python",
   "nbconvert_exporter": "python",
   "pygments_lexer": "ipython3",
   "version": "3.6.5"
  }
 },
 "nbformat": 4,
 "nbformat_minor": 2
}
