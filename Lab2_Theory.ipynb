{
 "cells": [
  {
   "cell_type": "markdown",
   "metadata": {},
   "source": [
    "## Laboratory work No2\n",
    "## USING CHORD METHOD, NEWTON-RAPHSON METHOD, AND COMBINED METHOD TO SOLVE ALGEBRAIC EQUATIONS"
   ]
  },
  {
   "cell_type": "markdown",
   "metadata": {},
   "source": [
    "In the laboratory work, you will study numerical methods for refining approximate roots, including chord method, Newton-Raphson method, and combined method, and find out how to use these methods for calculating all real roots of an algebraic equation $f(x) = 0$ at the accuracy $\\epsilon = 10^{-5}.$"
   ]
  },
  {
   "cell_type": "markdown",
   "metadata": {},
   "source": [
    "## Procedure\n",
    "1. Isolate all real roots for the given algebraic equation, $f(x) = 0$. To solve this problem, you can use any analytical, graphical, or tabular method.\n",
    "2. Correct one of these roots using the combined method by hand (only five iterations).\n",
    "3. Solve the problem of finding all real roots by a Python programming block at the given accuracy $\\epsilon = 10^{-5}.$ Calculate and save required number of iterations.\n",
    "4. Correct the roots by means of the build-in functions. Compare the obtained values and make a conclusion about the rate of convergence.\n"
   ]
  },
  {
   "cell_type": "markdown",
   "metadata": {},
   "source": [
    "## Plan for students' reports\n",
    "1.\tProcedure.\n",
    "2.\tTheoretical background.\n",
    "3.\tHand calculations.\n",
    "4.\tCalculations performed with Python, R language.\n",
    "5.\tConclusions.\n"
   ]
  },
  {
   "cell_type": "markdown",
   "metadata": {},
   "source": [
    "## Theoretical background"
   ]
  },
  {
   "cell_type": "markdown",
   "metadata": {},
   "source": [
    "### Chord method \n",
    "(false position method, method of proportional parts) was developed to overcome slowness of the bisection method. As before, we shall consider the equation: \n",
    "\n",
    "$$f(x) = 0, (2.1)$$\n",
    "\n",
    "where $f(x)$ is a continuous function, defined at the segment $[a, b]$ and $f(a)\\cdot f(b) \\lt 0$ ( $f(a)$ and $f(b$ ) have opposite signs). \n",
    "Instead of dividing the interval $[a, b]$ in halves (as it is done with the bisection method), we divide it in relation $\\frac{f(a)}{f(b)}$. This gives an approximate value of the root $x_{0} = b + h_{1}$, where \n",
    "\n",
    "$$h_{1} = \\frac{- f(b)}{f(a) - f(b)}(a - b) = -\\frac{f(b)(a - b)}{f(a) - f(b)}.$$\n",
    "\n",
    "Then, applying this technique to the interval ($[a, x_{0}]$ or $[x_{0}, b]$), at the ends of which the function $f(x)$ has opposite signs, we obtain the second approximation of the root $x_{2}$, etc.\n",
    "\n",
    "Geometrically, method of proportional parts is equivalent to replacing the curve $y = f(x)$ by the chord passing through the points A $(a; f(a))$ and B $(b; f(b))$ (Fig. 2.1). That is why, the chord method has got its name.\n",
    "\n",
    "![title](img/1.png)\n",
    "\n",
    "We know that the equation for the chord AB is $$\\frac{x - b}{a - b} = \\frac{y - f(b)}{f(a) - f(b)}.$$\n",
    "\n",
    "Hence, for $x = x_{0}$ and $y = 0$, we get $$x_{0} = b - \\frac{f(b)(a - b)}{f(a) - f(b)}.$$\n",
    "\n",
    "For the convergence of the chord method, the following conditions must be satisfied:\n",
    "1. That end of the chord is stationary for which the sign of the function $f(x)$ coincides with the sign of its second derivative $f''(x)$;\n",
    "2. Successive approximations $x_{n}$ lie on that side of the root $\\xi$ where $f(x)$ has the opposite sign to the sign of its second derivative $f''(x)$.\n",
    "\n",
    "Here is the formula to be used for the method realisation for the case of a fixed point a: \n",
    "\n",
    "$$x_{n} = x_{n-1} - \\frac{f(x_{n-1})(a - x_{n-1})}{f(a) - f(x_{n-1})}.$$\n",
    "\n",
    "If the interval $[a, b]$ is sufficiently small, the error of the method is defined as $|\\xi - x_{n}| \\lt |x_{n} - x_{n-1}|$ where $\\xi$ is root of the equation $f(x) = 0$. Thus $|\\xi - x_{n}| \\lt \\epsilon$ is guaranteed if $|x_{n} - x_{n-1}| \\lt \\epsilon$, where $\\epsilon$ is given limiting absolute error.\n",
    "\n",
    "### Newton-Raphson Method\n",
    "(Newton's method, Newton's iteration) is a root-finding algorithm that uses the first few terms of the Taylor series of a function $f(x)$ in the vicinity of a suspected root.\n",
    "Let $\\xi$ (the root of $f(x) = 0$) is separated on the interval $[a, b]$, and $f’(x)$ and $f’’(x)$ are continuous and save defined signs when $a \\leq x \\leq b$. Let $\\xi = x_{n} + h_{n}$ where $h_{n}$ is small. Hence, using the Taylor formula, we get $0 = f(x_{n} + h_{n}) \\approx f(x_{n}) + h_{n}f'(x_{n})$. Therefore, \n",
    "\n",
    "$$h_{n} = -\\frac{f(x_{n})}{f'(x_{n})}.$$\n",
    "\n",
    "If we introduce this correction to the root refinement formula, we can find the following (in order) approximation of the root: \n",
    "\n",
    "$$x_{n+1} = x_{n} - \\frac{f(x_{n})}{f'(x_{n})}.$$\n",
    "\n",
    "Newton’s method is geometrically equivalent to replacing a small arc of the curve y = f(x) by a tangent drawn at some point of the curve (Fig. 2.2).\n",
    "\n",
    "![title](img/2.png)\n",
    "\n",
    "$\\underline{Newton-Raphson-Theorem}$. If $f(a)\\cdot f(b) \\lt 0$, and $f'(x)$ and $f''(x)$ differ from zero and keep signs with $a \\le x \\le b$, then, on the basis of the initial approximation $x_{0} \\in [a, b]$ that satisfies $f(x_{0})\\cdot f''(x_{0}) \\gt 0$, the only root $\\xi$ of $f(x) = 0$ can be solved at any degree of accuracy by the Newton’s method \n",
    "\n",
    "$$x_{n+1} = x_{n} - \\frac{f(x_{n})}{f'(x_{n})}.$$\n",
    "\n",
    "Using the Newton-Raphson method, it is important to remember the following rule: a starting point $x_{0}$ \n",
    "can be that very end of the interval [a, b] which corresponds to the ordinate with the same sign as the sign of f''(x).\n",
    "The end iteration condition is the inequality $|x_{n} - x_{n-1}| \\lt \\epsilon$ where $\\epsilon$ is the given limiting absolute error.\n",
    "\n",
    "The function g(x) defined by formula \n",
    "\n",
    "$$g(x) = x - \\frac{f(x)}{f'(x)}$$ \n",
    "\n",
    "is called the Newton-Raphson iteration function. Since f(p) = 0, it is easy to see that g(p) = p. Thus, the Newton-Raphson iteration for finding roots of f(x) = 0 is accomplished by finding a fixed point of g(x).\n",
    "\n",
    "### Combined Method\n",
    "is used to calculate root values at a given accuracy as an alternative to the chord method and the Newton-Raphson method.\n",
    "    Let us use $a_{0}$ and $b_{0}$ to denote the ends of the segment containing the root of the equation, with $a_{0}$ standing for the end of the segment at which the signs of the function $f(x)$ and its second derivative $f''(x)$ are the same. We draw the chord through the points $[a_{0}, f(a_{0})], [b_{0}, f(b_{0})]$. The intersection point of the chord with the X-axis is denoted as $b_{1}$. \n",
    "    If we draw the tangent to the curve $y = f(x)$ in the point $[b_{0}, f(b_{0})]$, $a_{1}$ is the intersection point of the tangent with the X-axis. Thus, we obtain a new segment with the ends a1 and b1 containing the root of the equation (Fig. 2.3). Similarly, we obtain the segment with the end points $a_{2}$ and $b_{2}$ , etc.\n",
    "    \n",
    "![title](img/3.png)\n",
    "\n",
    "Here are combined-method calculations for the case shown in Fig. 2.3:\n",
    "\n",
    "$$b_{n+1} = b_{b} - \\Delta b_{n}, \\Delta b_{n} = \\frac{f(a_{n})(b_{n} - a_{n})}{f(b_{n} - f(a_{n}))};$$\n",
    "$$a_{n+1} = a_{b} - \\Delta a_{n}, \\Delta a_{n} = \\frac{f(a_{n})}{f'(a_{n}))}.$$\n",
    "\n",
    "If the root of the equation must be calculated at the accuracy $\\epsilon$ , the process of computing the root must be terminated at that moment when $|b_{n} - a_{n}| \\lt \\epsilon$. As the answer we take the arithmetic mean of the last received values $a_{n}$ and $b_{n}$, \n",
    "\n",
    "$$\\xi = \\frac{a_{n} + b_{b}}{2}.$$ \n",
    "\n",
    "### Error of numerical solutions to the equation. \n",
    "To estimate the approximation accuracy, we can use the formula \n",
    "\n",
    "$$|x_{n} - \\xi| \\le \\frac{f(x_{n})}{m_{1}}, |f'(x)| \\ge m_{1}, a \\le x \\le b.$$\n",
    "\n",
    "There is another formula which can be used to estimate the absolute error of an approximate value $x_{n}$ if we know two successive approximations $x_{n-1}$ and $x_{n}$. We assume that the derivative $f'(x)$ is continuous on an interval $[a, b]$ (the one containing all approximations) and has the constant sign, \n",
    "\n",
    "$$0 \\lt m_{1} \\le |f'(x)| \\lt M \\lt +\\infty.$$\n",
    "\n",
    "Moreover, we assume that successive approximations $x_{n}$ of the exact root $\\xi$ are calculated as \n",
    "\n",
    "$$x_{n} = x_{n-1} - \\frac{f(x_{n-1})}{f(x_{n-1}) - f(a))}(x_{n-1} - a), n = (1, 2, ...),$$\n",
    "\n",
    "where the end a is fixed. Hence, we get \n",
    "\n",
    "$$f(\\xi) - f(x_{n-1}) = \\frac{f(x_{n-1}) - f(a)}{x_{n-1} - a}(x_{n} - x_{n-1}).$$\n",
    "\n",
    "By applying the Lagrange theorem about finite increments of a function, we obtain \n",
    "\n",
    "$$(\\xi - x_{n-1})f'(\\xi_{n-1}) = (x_{n} - x_{n-1})f'(\\overline{x_{n-1}}),$$\n",
    "\n",
    "\n",
    "where $\\xi_{n-1} \\in (x_{n-1}, \\xi)$ and $\\overline{x_{n-1} \\in (a, x_{n-1})}$. Therefore, \n",
    "\n",
    "$$|\\xi - x_{n}| = \\frac{|f'(\\overline{x_{n-1}}) - f(\\xi_{n-1})|}{|f'(\\xi_{n-1})|}|x_{n} - x_{n-1}|. (2.2)$$\n",
    "\n",
    "\n",
    "As $f'(x)$ has the constant sign at the interval $[a, b]$, with $\\overline{x_{n-1}} \\in [a, b]$ and $\\xi_{n-1} \\in [a, b],$ we get\n",
    "\n",
    "$$|f'(\\overline{x_{n-1}}) - f'(\\xi_{n-1})| \\le M_{1} - m_{1}.$$\n",
    "\n",
    "From (2.1) it comes that \n",
    "\n",
    "$$|\\xi - x_{n}| \\le \\frac{M_{1} - m_{1}}{m_{1}}|x_{n} - x_{n-1}|, (2.3)$$\n",
    "\n",
    "\n",
    "where $m_{1}$, $M_{1}$ can be taken for the lowest and highest values for the absolute value of the derivative $f'(x)$ at the interval $[a, b]$. If the segment is so narrow that the inequality $M_{1} \\le 2m_{1}$ is correct, we get \n",
    "\n",
    "$$|\\xi - x_{n}| \\le |x_{n} - x_{n-1}|.$$\n",
    "\n",
    "\n",
    "Thus, $|\\xi - x_{n}| \\lt \\epsilon$ is guaranteed if $|x_{n} - x_{n-1}| \\lt \\epsilon$ where $\\epsilon$ is the given limiting absolute error."
   ]
  },
  {
   "cell_type": "markdown",
   "metadata": {},
   "source": [
    "## Calculation Example"
   ]
  },
  {
   "cell_type": "markdown",
   "metadata": {},
   "source": [
    "Let us calculate the real root of the equation $x^{3} + 3x + 8 = 0$ at the accuracy of $\\epsilon = 10^{-3}$.\n",
    "We consider \n",
    "\n",
    "$$f(x) = x^{3} + 3x + 8.$$\n",
    "\n",
    "The interval $[-2, -1]$ contains the root of this equation because at its ends, the function $f(x)$ has different signs: \n",
    "\n",
    "$$f(-2) = -6 , f(-1) = 4.$$\n",
    "\n",
    "The derivative is $f'(x) = 3x^{2} + 3 \\gt 0$ for all variables x, so the equation $x^{3} + 3x + 8 = 0$ has a single real root and two complex ones. Thus, the interval $[-2, -1]$ has the only real root of the equation."
   ]
  },
  {
   "cell_type": "markdown",
   "metadata": {},
   "source": [
    "## Python documentation resources\n",
    "\n",
    "General python documentation:\n",
    "https://www.python.org/doc/\n",
    "\n",
    "Numpy and SciPy documentation:\n",
    "https://docs.scipy.org/doc/\n",
    "\n",
    "Plotting with Python documentation:\n",
    "https://matplotlib.org/index.html"
   ]
  },
  {
   "cell_type": "code",
   "execution_count": 2,
   "metadata": {},
   "outputs": [],
   "source": [
    "# importing abs function from math library\n",
    "from math import fabs"
   ]
  },
  {
   "cell_type": "code",
   "execution_count": 3,
   "metadata": {},
   "outputs": [],
   "source": [
    "# initial values (left bound, right bound and epsilon)\n",
    "a, b, eps = -2, -1, 1e-3"
   ]
  },
  {
   "cell_type": "code",
   "execution_count": 4,
   "metadata": {},
   "outputs": [],
   "source": [
    "# function f(x)\n",
    "def f(x):\n",
    "    return x**3 + 3*x + 8"
   ]
  },
  {
   "cell_type": "code",
   "execution_count": 5,
   "metadata": {},
   "outputs": [],
   "source": [
    "# derivative of f(x)\n",
    "def df(x):\n",
    "    return 3*x**2 + 3"
   ]
  },
  {
   "cell_type": "code",
   "execution_count": 6,
   "metadata": {},
   "outputs": [],
   "source": [
    "def chord_method(a, b, eps):\n",
    "    # number of iteration\n",
    "    n = 0\n",
    "    while fabs(b - a) > eps:\n",
    "        # chord method calculations\n",
    "        a = b - (b - a) * f(b) / (f(b) - f(a))\n",
    "        b = a + (a - b) * f(a) / (f(a) - f(b))\n",
    "        # increasing number of iterations\n",
    "        n += 1\n",
    "    # returning both the result and number of iterations\n",
    "    return (b, n)"
   ]
  },
  {
   "cell_type": "code",
   "execution_count": 7,
   "metadata": {},
   "outputs": [
    {
     "name": "stdout",
     "output_type": "stream",
     "text": [
      "(-1.5131498333591615, 3)\n"
     ]
    }
   ],
   "source": [
    "print(chord_method(a, b, eps))"
   ]
  },
  {
   "cell_type": "code",
   "execution_count": 8,
   "metadata": {},
   "outputs": [],
   "source": [
    "def newton_method(a, b, eps):\n",
    "    # number of iterations\n",
    "    n = 0\n",
    "    # initial newton formula\n",
    "    b = a - f(a) / df(a)\n",
    "    while fabs(b - a) > eps:\n",
    "        # newton method calculations\n",
    "        a = b\n",
    "        b -= f(b) / df(b)\n",
    "        # increasing number of iterations\n",
    "        n += 1\n",
    "    # returning both the result and number of iterations\n",
    "    return (b, n)"
   ]
  },
  {
   "cell_type": "code",
   "execution_count": 9,
   "metadata": {},
   "outputs": [
    {
     "name": "stdout",
     "output_type": "stream",
     "text": [
      "(-1.5127453266306898, 3)\n"
     ]
    }
   ],
   "source": [
    "print(newton_method(a, b, eps))"
   ]
  },
  {
   "cell_type": "code",
   "execution_count": 10,
   "metadata": {},
   "outputs": [],
   "source": [
    "def combined_method(a, b, eps):\n",
    "    # number of iterations\n",
    "    n = 0\n",
    "    while fabs(b - a) > eps:\n",
    "        # combined method calculations\n",
    "        a -= f(a) / df(a)\n",
    "        b -= f(b) * (a - b) / (f(a) - f(b))\n",
    "        # increasing number of iterations\n",
    "        n += 1\n",
    "    # returning both the result and number of iterations\n",
    "    return ( (a + b) / 2, n)"
   ]
  },
  {
   "cell_type": "code",
   "execution_count": 11,
   "metadata": {},
   "outputs": [
    {
     "name": "stdout",
     "output_type": "stream",
     "text": [
      "(-1.5127479184413737, 3)\n"
     ]
    }
   ],
   "source": [
    "print(combined_method(a, b, eps))"
   ]
  },
  {
   "cell_type": "code",
   "execution_count": 12,
   "metadata": {},
   "outputs": [],
   "source": [
    "# importing plot function to make plots of data\n",
    "from matplotlib.pyplot import plot\n",
    "# importing numpy lib\n",
    "import numpy as np"
   ]
  },
  {
   "cell_type": "code",
   "execution_count": 13,
   "metadata": {},
   "outputs": [],
   "source": [
    "# arranging numbers from a to b with step of 0.1\n",
    "xn = np.arange(a, b, 1e-1)\n",
    "# calculating the function in xn points\n",
    "y = [f(x) for x in xn]"
   ]
  },
  {
   "cell_type": "code",
   "execution_count": 14,
   "metadata": {},
   "outputs": [
    {
     "data": {
      "text/plain": [
       "[<matplotlib.lines.Line2D at 0x10f2f5588>]"
      ]
     },
     "execution_count": 14,
     "metadata": {},
     "output_type": "execute_result"
    },
    {
     "data": {
      "image/png": "[encoded data removed]",
      "text/plain": [
       "<Figure size 432x288 with 1 Axes>"
      ]
     },
     "metadata": {},
     "output_type": "display_data"
    }
   ],
   "source": [
    "# plotting the resulting function\n",
    "plot(xn, y)"
   ]
  },
  {
   "cell_type": "markdown",
   "metadata": {},
   "source": [
    "## Try solving it yourself\n",
    "\n",
    "Try it: [Solve](Lab2_Practice.ipynb)"
   ]
  },
  {
   "cell_type": "code",
   "execution_count": null,
   "metadata": {},
   "outputs": [],
   "source": []
  }
 ],
 "metadata": {
  "kernelspec": {
   "display_name": "Python 3",
   "language": "python",
   "name": "python3"
  },
  "language_info": {
   "codemirror_mode": {
    "name": "ipython",
    "version": 3
   },
   "file_extension": ".py",
   "mimetype": "text/x-python",
   "name": "python",
   "nbconvert_exporter": "python",
   "pygments_lexer": "ipython3",
   "version": "3.6.5"
  }
 },
 "nbformat": 4,
 "nbformat_minor": 2
}
